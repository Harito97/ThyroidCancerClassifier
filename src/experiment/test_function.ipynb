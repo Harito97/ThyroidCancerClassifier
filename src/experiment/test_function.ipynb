{
 "cells": [
  {
   "cell_type": "code",
   "execution_count": 1,
   "metadata": {},
   "outputs": [
    {
     "name": "stdout",
     "output_type": "stream",
     "text": [
      "/mnt/DataSamsung/project/ThyroidCancerClassifier\n"
     ]
    },
    {
     "name": "stderr",
     "output_type": "stream",
     "text": [
      "/home/harito/venv/ai_env_3.12/lib/python3.12/site-packages/IPython/core/magics/osm.py:417: UserWarning: This is now an optional IPython functionality, setting dhist requires you to install the `pickleshare` library.\n",
      "  self.shell.db['dhist'] = compress_dhist(dhist)[-100:]\n"
     ]
    }
   ],
   "source": [
    "%cd /mnt/DataSamsung/project/ThyroidCancerClassifier"
   ]
  },
  {
   "cell_type": "code",
   "execution_count": 2,
   "metadata": {},
   "outputs": [],
   "source": [
    "# import os\n",
    "\n",
    "# def create_fake_file(directory, filename):\n",
    "#     os.makedirs(directory, exist_ok=True)\n",
    "#     with open(os.path.join(directory, filename), 'w') as f:\n",
    "#         f.write('fake data')\n",
    "\n",
    "# def create_class_data(data_dir, class_name, num_files):\n",
    "#     class_dir = os.path.join(data_dir, class_name)\n",
    "#     for i in range(num_files):\n",
    "#         filename = f\"{class_name}_{i}.txt\"\n",
    "#         create_fake_file(class_dir, filename)\n",
    "\n",
    "# def create_fake_dataset(base_dir):\n",
    "#     splits = ['train', 'val', 'test']\n",
    "#     classes = {'B2': 50, 'B5': 250, 'B6': 300}\n",
    "    \n",
    "#     for split in splits:\n",
    "#         split_dir = os.path.join(base_dir, split)\n",
    "#         for class_name, num_files in classes.items():\n",
    "#             # Adjust the number of files for val and test splits\n",
    "#             if split != 'train':\n",
    "#                 num_files = int(num_files * 0.2)\n",
    "#             create_class_data(split_dir, class_name, num_files)\n",
    "\n",
    "# base_dir = 'temp_data_dir'\n",
    "# create_fake_dataset(base_dir)"
   ]
  },
  {
   "cell_type": "code",
   "execution_count": 3,
   "metadata": {},
   "outputs": [],
   "source": [
    "# %pip install torch torchvision"
   ]
  },
  {
   "cell_type": "code",
   "execution_count": 4,
   "metadata": {},
   "outputs": [],
   "source": [
    "# %pip install --upgrade pip"
   ]
  },
  {
   "cell_type": "code",
   "execution_count": 5,
   "metadata": {},
   "outputs": [
    {
     "name": "stdout",
     "output_type": "stream",
     "text": [
      "Creating dataset...\n",
      "Balancing the dataset\n",
      "Original dataset size: 600 | 600\n",
      "Balanced dataset size: 2700 | 2700\n",
      "Train dataset size: 2700\n",
      "Path temp_data_dir/valid/B2 does not exist\n",
      "Path temp_data_dir/valid/B5 does not exist\n",
      "Path temp_data_dir/valid/B6 does not exist\n",
      "Valid dataset size: 0\n",
      "Test dataset size: 120\n",
      "Creating dataloader...\n",
      "Train loader size: 85\n",
      "Valid loader size: 0\n",
      "Test loader size: 4\n",
      "Testing train_loader...\n"
     ]
    },
    {
     "ename": "UnidentifiedImageError",
     "evalue": "Caught UnidentifiedImageError in DataLoader worker process 0.\nOriginal Traceback (most recent call last):\n  File \"/home/harito/venv/ai_env_3.12/lib/python3.12/site-packages/torch/utils/data/_utils/worker.py\", line 308, in _worker_loop\n    data = fetcher.fetch(index)  # type: ignore[possibly-undefined]\n           ^^^^^^^^^^^^^^^^^^^^\n  File \"/home/harito/venv/ai_env_3.12/lib/python3.12/site-packages/torch/utils/data/_utils/fetch.py\", line 51, in fetch\n    data = [self.dataset[idx] for idx in possibly_batched_index]\n            ~~~~~~~~~~~~^^^^^\n  File \"/mnt/DataSamsung/project/ThyroidCancerClassifier/src/data_preparation/ThyroidCancerDataset.py\", line 152, in __getitem__\n    image = Image.open(img_path).convert(\"RGB\")\n            ^^^^^^^^^^^^^^^^^^^^\n  File \"/home/harito/venv/ai_env_3.12/lib/python3.12/site-packages/PIL/Image.py\", line 3339, in open\n    raise UnidentifiedImageError(msg)\nPIL.UnidentifiedImageError: cannot identify image file '/mnt/DataSamsung/project/ThyroidCancerClassifier/temp_data_dir/train/B5/B5_87.txt'\n",
     "output_type": "error",
     "traceback": [
      "\u001b[0;31m---------------------------------------------------------------------------\u001b[0m",
      "\u001b[0;31mUnidentifiedImageError\u001b[0m                    Traceback (most recent call last)",
      "Cell \u001b[0;32mIn[5], line 45\u001b[0m\n\u001b[1;32m     38\u001b[0m     \u001b[38;5;66;03m# Display the first image in the first batch of train_loader\u001b[39;00m\n\u001b[1;32m     39\u001b[0m     \u001b[38;5;66;03m# sample_img = images[0].numpy().transpose((1, 2, 0))\u001b[39;00m\n\u001b[1;32m     40\u001b[0m     \u001b[38;5;66;03m# plt.imshow(sample_img)\u001b[39;00m\n\u001b[1;32m     41\u001b[0m     \u001b[38;5;66;03m# plt.title(f'Sample Image - Label: {labels[0].item()}')\u001b[39;00m\n\u001b[1;32m     42\u001b[0m     \u001b[38;5;66;03m# plt.show()\u001b[39;00m\n\u001b[1;32m     44\u001b[0m \u001b[38;5;28;01mif\u001b[39;00m \u001b[38;5;18m__name__\u001b[39m \u001b[38;5;241m==\u001b[39m \u001b[38;5;124m'\u001b[39m\u001b[38;5;124m__main__\u001b[39m\u001b[38;5;124m'\u001b[39m:\n\u001b[0;32m---> 45\u001b[0m     \u001b[43mtest_load_data\u001b[49m\u001b[43m(\u001b[49m\u001b[43m)\u001b[49m\n",
      "Cell \u001b[0;32mIn[5], line 19\u001b[0m, in \u001b[0;36mtest_load_data\u001b[0;34m()\u001b[0m\n\u001b[1;32m     17\u001b[0m \u001b[38;5;66;03m# Test train_loader\u001b[39;00m\n\u001b[1;32m     18\u001b[0m \u001b[38;5;28mprint\u001b[39m(\u001b[38;5;124m'\u001b[39m\u001b[38;5;124mTesting train_loader...\u001b[39m\u001b[38;5;124m'\u001b[39m)\n\u001b[0;32m---> 19\u001b[0m \u001b[43m\u001b[49m\u001b[38;5;28;43;01mfor\u001b[39;49;00m\u001b[43m \u001b[49m\u001b[43mimages\u001b[49m\u001b[43m,\u001b[49m\u001b[43m \u001b[49m\u001b[43mlabels\u001b[49m\u001b[43m \u001b[49m\u001b[38;5;129;43;01min\u001b[39;49;00m\u001b[43m \u001b[49m\u001b[43mtrain_loader\u001b[49m\u001b[43m:\u001b[49m\n\u001b[1;32m     20\u001b[0m \u001b[43m    \u001b[49m\u001b[38;5;28;43mprint\u001b[39;49m\u001b[43m(\u001b[49m\u001b[38;5;124;43mf\u001b[39;49m\u001b[38;5;124;43m'\u001b[39;49m\u001b[38;5;124;43mBatch images shape: \u001b[39;49m\u001b[38;5;132;43;01m{\u001b[39;49;00m\u001b[43mimages\u001b[49m\u001b[38;5;241;43m.\u001b[39;49m\u001b[43mshape\u001b[49m\u001b[38;5;132;43;01m}\u001b[39;49;00m\u001b[38;5;124;43m'\u001b[39;49m\u001b[43m)\u001b[49m\n\u001b[1;32m     21\u001b[0m \u001b[43m    \u001b[49m\u001b[38;5;28;43mprint\u001b[39;49m\u001b[43m(\u001b[49m\u001b[38;5;124;43mf\u001b[39;49m\u001b[38;5;124;43m'\u001b[39;49m\u001b[38;5;124;43mBatch labels shape: \u001b[39;49m\u001b[38;5;132;43;01m{\u001b[39;49;00m\u001b[43mlabels\u001b[49m\u001b[38;5;241;43m.\u001b[39;49m\u001b[43mshape\u001b[49m\u001b[38;5;132;43;01m}\u001b[39;49;00m\u001b[38;5;124;43m'\u001b[39;49m\u001b[43m)\u001b[49m\n",
      "File \u001b[0;32m~/venv/ai_env_3.12/lib/python3.12/site-packages/torch/utils/data/dataloader.py:631\u001b[0m, in \u001b[0;36m_BaseDataLoaderIter.__next__\u001b[0;34m(self)\u001b[0m\n\u001b[1;32m    628\u001b[0m \u001b[38;5;28;01mif\u001b[39;00m \u001b[38;5;28mself\u001b[39m\u001b[38;5;241m.\u001b[39m_sampler_iter \u001b[38;5;129;01mis\u001b[39;00m \u001b[38;5;28;01mNone\u001b[39;00m:\n\u001b[1;32m    629\u001b[0m     \u001b[38;5;66;03m# TODO(https://github.com/pytorch/pytorch/issues/76750)\u001b[39;00m\n\u001b[1;32m    630\u001b[0m     \u001b[38;5;28mself\u001b[39m\u001b[38;5;241m.\u001b[39m_reset()  \u001b[38;5;66;03m# type: ignore[call-arg]\u001b[39;00m\n\u001b[0;32m--> 631\u001b[0m data \u001b[38;5;241m=\u001b[39m \u001b[38;5;28;43mself\u001b[39;49m\u001b[38;5;241;43m.\u001b[39;49m\u001b[43m_next_data\u001b[49m\u001b[43m(\u001b[49m\u001b[43m)\u001b[49m\n\u001b[1;32m    632\u001b[0m \u001b[38;5;28mself\u001b[39m\u001b[38;5;241m.\u001b[39m_num_yielded \u001b[38;5;241m+\u001b[39m\u001b[38;5;241m=\u001b[39m \u001b[38;5;241m1\u001b[39m\n\u001b[1;32m    633\u001b[0m \u001b[38;5;28;01mif\u001b[39;00m \u001b[38;5;28mself\u001b[39m\u001b[38;5;241m.\u001b[39m_dataset_kind \u001b[38;5;241m==\u001b[39m _DatasetKind\u001b[38;5;241m.\u001b[39mIterable \u001b[38;5;129;01mand\u001b[39;00m \\\n\u001b[1;32m    634\u001b[0m         \u001b[38;5;28mself\u001b[39m\u001b[38;5;241m.\u001b[39m_IterableDataset_len_called \u001b[38;5;129;01mis\u001b[39;00m \u001b[38;5;129;01mnot\u001b[39;00m \u001b[38;5;28;01mNone\u001b[39;00m \u001b[38;5;129;01mand\u001b[39;00m \\\n\u001b[1;32m    635\u001b[0m         \u001b[38;5;28mself\u001b[39m\u001b[38;5;241m.\u001b[39m_num_yielded \u001b[38;5;241m>\u001b[39m \u001b[38;5;28mself\u001b[39m\u001b[38;5;241m.\u001b[39m_IterableDataset_len_called:\n",
      "File \u001b[0;32m~/venv/ai_env_3.12/lib/python3.12/site-packages/torch/utils/data/dataloader.py:1346\u001b[0m, in \u001b[0;36m_MultiProcessingDataLoaderIter._next_data\u001b[0;34m(self)\u001b[0m\n\u001b[1;32m   1344\u001b[0m \u001b[38;5;28;01melse\u001b[39;00m:\n\u001b[1;32m   1345\u001b[0m     \u001b[38;5;28;01mdel\u001b[39;00m \u001b[38;5;28mself\u001b[39m\u001b[38;5;241m.\u001b[39m_task_info[idx]\n\u001b[0;32m-> 1346\u001b[0m     \u001b[38;5;28;01mreturn\u001b[39;00m \u001b[38;5;28;43mself\u001b[39;49m\u001b[38;5;241;43m.\u001b[39;49m\u001b[43m_process_data\u001b[49m\u001b[43m(\u001b[49m\u001b[43mdata\u001b[49m\u001b[43m)\u001b[49m\n",
      "File \u001b[0;32m~/venv/ai_env_3.12/lib/python3.12/site-packages/torch/utils/data/dataloader.py:1372\u001b[0m, in \u001b[0;36m_MultiProcessingDataLoaderIter._process_data\u001b[0;34m(self, data)\u001b[0m\n\u001b[1;32m   1370\u001b[0m \u001b[38;5;28mself\u001b[39m\u001b[38;5;241m.\u001b[39m_try_put_index()\n\u001b[1;32m   1371\u001b[0m \u001b[38;5;28;01mif\u001b[39;00m \u001b[38;5;28misinstance\u001b[39m(data, ExceptionWrapper):\n\u001b[0;32m-> 1372\u001b[0m     \u001b[43mdata\u001b[49m\u001b[38;5;241;43m.\u001b[39;49m\u001b[43mreraise\u001b[49m\u001b[43m(\u001b[49m\u001b[43m)\u001b[49m\n\u001b[1;32m   1373\u001b[0m \u001b[38;5;28;01mreturn\u001b[39;00m data\n",
      "File \u001b[0;32m~/venv/ai_env_3.12/lib/python3.12/site-packages/torch/_utils.py:705\u001b[0m, in \u001b[0;36mExceptionWrapper.reraise\u001b[0;34m(self)\u001b[0m\n\u001b[1;32m    701\u001b[0m \u001b[38;5;28;01mexcept\u001b[39;00m \u001b[38;5;167;01mTypeError\u001b[39;00m:\n\u001b[1;32m    702\u001b[0m     \u001b[38;5;66;03m# If the exception takes multiple arguments, don't try to\u001b[39;00m\n\u001b[1;32m    703\u001b[0m     \u001b[38;5;66;03m# instantiate since we don't know how to\u001b[39;00m\n\u001b[1;32m    704\u001b[0m     \u001b[38;5;28;01mraise\u001b[39;00m \u001b[38;5;167;01mRuntimeError\u001b[39;00m(msg) \u001b[38;5;28;01mfrom\u001b[39;00m \u001b[38;5;28;01mNone\u001b[39;00m\n\u001b[0;32m--> 705\u001b[0m \u001b[38;5;28;01mraise\u001b[39;00m exception\n",
      "\u001b[0;31mUnidentifiedImageError\u001b[0m: Caught UnidentifiedImageError in DataLoader worker process 0.\nOriginal Traceback (most recent call last):\n  File \"/home/harito/venv/ai_env_3.12/lib/python3.12/site-packages/torch/utils/data/_utils/worker.py\", line 308, in _worker_loop\n    data = fetcher.fetch(index)  # type: ignore[possibly-undefined]\n           ^^^^^^^^^^^^^^^^^^^^\n  File \"/home/harito/venv/ai_env_3.12/lib/python3.12/site-packages/torch/utils/data/_utils/fetch.py\", line 51, in fetch\n    data = [self.dataset[idx] for idx in possibly_batched_index]\n            ~~~~~~~~~~~~^^^^^\n  File \"/mnt/DataSamsung/project/ThyroidCancerClassifier/src/data_preparation/ThyroidCancerDataset.py\", line 152, in __getitem__\n    image = Image.open(img_path).convert(\"RGB\")\n            ^^^^^^^^^^^^^^^^^^^^\n  File \"/home/harito/venv/ai_env_3.12/lib/python3.12/site-packages/PIL/Image.py\", line 3339, in open\n    raise UnidentifiedImageError(msg)\nPIL.UnidentifiedImageError: cannot identify image file '/mnt/DataSamsung/project/ThyroidCancerClassifier/temp_data_dir/train/B5/B5_87.txt'\n"
     ]
    }
   ],
   "source": [
    "from src.data_preparation.ThyroidCancerDataset import ThyroidCancerDataset\n",
    "from torchvision import transforms\n",
    "from torch.utils.data import DataLoader\n",
    "import matplotlib.pyplot as plt\n",
    "import numpy as np\n",
    "from src.experiment.load_data import load_data\n",
    "\n",
    "def test_load_data():\n",
    "    data_dir = 'temp_data_dir'\n",
    "    batch_size = 32\n",
    "    num_workers = 4\n",
    "    classes = {0: [\"B2\"], 1: [\"B5\"], 2: [\"B6\"]}\n",
    "\n",
    "    # Load data\n",
    "    train_loader, valid_loader, test_loader = load_data(data_dir, batch_size, num_workers, classes)\n",
    "\n",
    "    # Test train_loader\n",
    "    print('Testing train_loader...')\n",
    "    for images, labels in train_loader:\n",
    "        print(f'Batch images shape: {images.shape}')\n",
    "        print(f'Batch labels shape: {labels.shape}')\n",
    "        break  # only test the first batch\n",
    "\n",
    "    # Test valid_loader\n",
    "    print('Testing valid_loader...')\n",
    "    for images, labels in valid_loader:\n",
    "        print(f'Batch images shape: {images.shape}')\n",
    "        print(f'Batch labels shape: {labels.shape}')\n",
    "        break  # only test the first batch\n",
    "\n",
    "    # Test test_loader\n",
    "    print('Testing test_loader...')\n",
    "    for images, labels in test_loader:\n",
    "        print(f'Batch images shape: {images.shape}')\n",
    "        print(f'Batch labels shape: {labels.shape}')\n",
    "        break  # only test the first batch\n",
    "\n",
    "    # Display the first image in the first batch of train_loader\n",
    "    # sample_img = images[0].numpy().transpose((1, 2, 0))\n",
    "    # plt.imshow(sample_img)\n",
    "    # plt.title(f'Sample Image - Label: {labels[0].item()}')\n",
    "    # plt.show()\n",
    "\n",
    "if __name__ == '__main__':\n",
    "    test_load_data()"
   ]
  }
 ],
 "metadata": {
  "kernelspec": {
   "display_name": "ai_env_3.12",
   "language": "python",
   "name": "python3"
  },
  "language_info": {
   "codemirror_mode": {
    "name": "ipython",
    "version": 3
   },
   "file_extension": ".py",
   "mimetype": "text/x-python",
   "name": "python",
   "nbconvert_exporter": "python",
   "pygments_lexer": "ipython3",
   "version": "3.12.3"
  }
 },
 "nbformat": 4,
 "nbformat_minor": 2
}
