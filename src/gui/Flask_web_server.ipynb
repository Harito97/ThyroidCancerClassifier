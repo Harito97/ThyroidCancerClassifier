{
 "cells": [
  {
   "cell_type": "markdown",
   "metadata": {},
   "source": [
    "# Cài đặt phụ thuộc"
   ]
  },
  {
   "cell_type": "code",
   "execution_count": 5,
   "metadata": {},
   "outputs": [],
   "source": [
    "# %pip install Flask torchvision\n",
    "# %pip install requests\n",
    "# %pip freeze > requirements.txt"
   ]
  },
  {
   "cell_type": "markdown",
   "metadata": {},
   "source": [
    "# Setup code Flask"
   ]
  },
  {
   "cell_type": "markdown",
   "metadata": {},
   "source": [
    "Run this code from terminal\n",
    "\n",
    "```bash\n",
    "cd /mnt/Data/Projects/ThyroidCancerClassifier/\n",
    "FLASK_ENV=development FLASK_APP=src/gui/app.py flask run\n",
    "```\n",
    "\n",
    "Or run below cell (use thread)"
   ]
  },
  {
   "cell_type": "code",
   "execution_count": null,
   "metadata": {},
   "outputs": [
    {
     "name": "stdout",
     "output_type": "stream",
     "text": [
      " * Serving Flask app 'src/gui/app.py'\n",
      " * Debug mode: off\n"
     ]
    },
    {
     "name": "stderr",
     "output_type": "stream",
     "text": [
      "\u001b[31m\u001b[1mWARNING: This is a development server. Do not use it in a production deployment. Use a production WSGI server instead.\u001b[0m\n",
      " * Running on http://127.0.0.1:5000\n",
      "\u001b[33mPress CTRL+C to quit\u001b[0m\n"
     ]
    }
   ],
   "source": [
    "import threading\n",
    "import subprocess\n",
    "\n",
    "def run_flask():\n",
    "    # Điều chỉnh đường dẫn và các biến môi trường theo dự án của bạn\n",
    "    command = \"cd /mnt/Data/Projects/ThyroidCancerClassifier/ && FLASK_ENV=development FLASK_APP=src/gui/app.py flask run\"\n",
    "    subprocess.run(command, shell=True, check=True)\n",
    "\n",
    "# Tạo và khởi động thread\n",
    "flask_thread = threading.Thread(target=run_flask)\n",
    "flask_thread.start()"
   ]
  },
  {
   "cell_type": "code",
   "execution_count": 5,
   "metadata": {},
   "outputs": [
    {
     "name": "stdout",
     "output_type": "stream",
     "text": [
      "{'class_id': 'B5B6', 'class_name': 'Label for class 1'}\n"
     ]
    },
    {
     "name": "stderr",
     "output_type": "stream",
     "text": [
      "127.0.0.1 - - [11/Jul/2024 11:14:36] \"POST /predict HTTP/1.1\" 200 -\n"
     ]
    }
   ],
   "source": [
    "import requests\n",
    "\n",
    "# img_dir = '/mnt/Data/Projects/ThyroidCancer/Phase1/Data/origin_data/B256/B2/z5009963539262_dc30751788cc0ce5bf14a9484e1fc76e.jpg'\n",
    "# img_dir = '/mnt/Data/Projects/ThyroidCancer/Phase1/Data/origin_data/B256/B2/z4907540049206_8f67497db1e4f4c0345ca8fa95c49d11.jpg'\n",
    "# img_dir = '/mnt/Data/Projects/ThyroidCancer/Phase1/Data/origin_data/B256/B5/z4840977698087_bae75943cb0e1d8c86e37e5388c4aa8d.jpg'\n",
    "# img_dir = '/mnt/Data/Projects/ThyroidCancer/Phase1/Data/origin_data/B256/B5/z5122229761144_a8507fc41c91389848ccec329954a6ff.jpg'\n",
    "# img_dir = '/mnt/Data/Projects/ThyroidCancer/Phase1/Data/origin_data/B256/B6/Image_26390.jpg'\n",
    "img_dir = '/mnt/Data/Projects/ThyroidCancer/Phase1/Data/origin_data/B256/B6/Image_142155.jpg'\n",
    "\n",
    "resp = requests.post(\n",
    "    \"http://localhost:5000/predict\",\n",
    "    files={\"file\": open(img_dir, \"rb\")},\n",
    ")\n",
    "\n",
    "print(resp.json())"
   ]
  },
  {
   "cell_type": "markdown",
   "metadata": {},
   "source": [
    "# Fix pacman bug\n",
    "\n",
    "The error messages you're encountering indicate issues with accessing the signature file for the `extra` database, and potentially issues with the GPG signatures used by `pacman` for verifying packages. This can happen for a variety of reasons, such as corrupted database files or misconfigured GPG keys. Here's a step-by-step approach to troubleshoot and potentially resolve the issue:\n",
    "\n",
    "1. **Refresh the Pacman Database**\n",
    "   - Force a refresh of all package databases to ensure they're up to date and not corrupted.\n",
    "     ```bash\n",
    "     sudo pacman -Syyu\n",
    "     ```\n",
    "\n",
    "2. **Fix GPG Keys**\n",
    "   - Sometimes, the issue can be with the GPG keys used by `pacman` for signature verification. You can try refreshing the keys:\n",
    "     ```bash\n",
    "     sudo pacman-key --init\n",
    "     sudo pacman-key --populate archlinux\n",
    "     sudo pacman-key --refresh-keys\n",
    "     ```\n",
    "\n",
    "3. **Check for File Permissions**\n",
    "   - Ensure that the `pacman` database directory and its contents are accessible and have the correct permissions. The `pacman` process should have read access.\n",
    "     ```bash\n",
    "     sudo chmod -R u+rwX,go+rX,go-w /var/lib/pacman/\n",
    "     ```\n",
    "\n",
    "4. **Clear Pacman's Cache**\n",
    "   - Corrupted package files in `pacman`'s cache can sometimes cause issues. Clearing the cache might help.\n",
    "     ```bash\n",
    "     sudo pacman -Scc\n",
    "     ```\n",
    "   - Then, try updating again:\n",
    "     ```bash\n",
    "     sudo pacman -Syu\n",
    "     ```\n",
    "\n",
    "5. **Manually Remove the Problematic Signature File**\n",
    "   - If the specific `.sig` file mentioned in the error is causing issues and you've verified that it's safe to do so, you can try manually removing it. However, this step should be approached with caution.\n",
    "     ```bash\n",
    "     sudo rm /var/lib/pacman/sync/extra.db.sig\n",
    "     ```\n",
    "   - After removing, refresh the databases again:\n",
    "     ```bash\n",
    "     sudo pacman -Sy\n",
    "     ```\n",
    "\n",
    "If none of these steps resolve the issue, it might be worth checking the Arch Linux forums or the official documentation for any specific issues related to the `extra` database or GPG signature verification problems."
   ]
  }
 ],
 "metadata": {
  "kernelspec": {
   "display_name": "pyvenv311",
   "language": "python",
   "name": "python3"
  },
  "language_info": {
   "codemirror_mode": {
    "name": "ipython",
    "version": 3
   },
   "file_extension": ".py",
   "mimetype": "text/x-python",
   "name": "python",
   "nbconvert_exporter": "python",
   "pygments_lexer": "ipython3",
   "version": "3.11.9"
  }
 },
 "nbformat": 4,
 "nbformat_minor": 2
}
