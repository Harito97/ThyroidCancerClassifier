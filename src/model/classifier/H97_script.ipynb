{
 "cells": [
  {
   "cell_type": "markdown",
   "metadata": {},
   "source": [
    "# Load vào dataset có sẵn trên kaggle"
   ]
  },
  {
   "cell_type": "code",
   "execution_count": null,
   "metadata": {},
   "outputs": [],
   "source": [
    "# This Python 3 environment comes with many helpful analytics libraries installed\n",
    "# It is defined by the kaggle/python Docker image: https://github.com/kaggle/docker-python\n",
    "# For example, here's several helpful packages to load\n",
    "\n",
    "import numpy as np # linear algebra\n",
    "import pandas as pd # data processing, CSV file I/O (e.g. pd.read_csv)\n",
    "\n",
    "# Input data files are available in the read-only \"../input/\" directory\n",
    "# For example, running this (by clicking run or pressing Shift+Enter) will list all files under the input directory\n",
    "\n",
    "import os\n",
    "for dirname, _, filenames in os.walk('/kaggle/input'):\n",
    "    for filename in filenames:\n",
    "        print(os.path.join(dirname, filename))\n",
    "\n",
    "# You can write up to 20GB to the current directory (/kaggle/working/) that gets preserved as output when you create a version using \"Save & Run All\" \n",
    "# You can also write temporary files to /kaggle/temp/, but they won't be saved outside of the current session"
   ]
  },
  {
   "cell_type": "markdown",
   "metadata": {},
   "source": [
    "# Tải xuống tài nguyên code dự án và update"
   ]
  },
  {
   "cell_type": "markdown",
   "metadata": {},
   "source": [
    "%cd /kaggle/working\n",
    "%git clone https://github.com/Harito97/ThyroidCancerClassifier\n",
    "%cd ThyroidCancerClassifier\n",
    "%ls\n",
    "%git pull"
   ]
  },
  {
   "cell_type": "markdown",
   "metadata": {},
   "source": [
    "# Khai báo data_dir sẽ làm việc và wandb để lưu lịch sử"
   ]
  },
  {
   "cell_type": "code",
   "execution_count": null,
   "metadata": {},
   "outputs": [],
   "source": [
    "%pip install torchsummary"
   ]
  },
  {
   "cell_type": "code",
   "execution_count": null,
   "metadata": {},
   "outputs": [],
   "source": [
    "data_dir = '/kaggle/input/thyroidcancer-ver1/ver1'"
   ]
  },
  {
   "cell_type": "code",
   "execution_count": null,
   "metadata": {},
   "outputs": [],
   "source": [
    "# Log in to your W&B account\n",
    "import wandb"
   ]
  },
  {
   "cell_type": "code",
   "execution_count": null,
   "metadata": {},
   "outputs": [],
   "source": [
    "wandb.login()"
   ]
  },
  {
   "cell_type": "markdown",
   "metadata": {},
   "source": [
    "# Với Model h97_resnet_B2_B5B6_dataver1"
   ]
  },
  {
   "cell_type": "code",
   "execution_count": null,
   "metadata": {},
   "outputs": [],
   "source": [
    "from src.model.classifier.H97 import H97_ResNet\n",
    "import torch\n",
    "import os\n",
    "from src.experiment.load_data import load_data\n",
    "\n",
    "model = H97_ResNet(num_classes=2)"
   ]
  },
  {
   "cell_type": "code",
   "execution_count": null,
   "metadata": {},
   "outputs": [],
   "source": [
    "train_loader, valid_loader, test_loader = load_data(data_dir=data_dir, classes={0: ['.B2'], 1: ['B5', 'B6']})"
   ]
  },
  {
   "cell_type": "code",
   "execution_count": null,
   "metadata": {},
   "outputs": [],
   "source": [
    "for name, loader in zip(['train', 'valid', 'test'], [train_loader, valid_loader, test_loader]):\n",
    "    print(f'Counting labels for {name}...')\n",
    "    labels = [0, 0]\n",
    "    for _, target in loader:\n",
    "        labels[0] += torch.sum(target == 0).item()\n",
    "        labels[1] += torch.sum(target == 1).item()\n",
    "    print(f'Class 0: {labels[0]} images')\n",
    "    print(f'Class 1: {labels[1]} images')"
   ]
  },
  {
   "cell_type": "code",
   "execution_count": null,
   "metadata": {},
   "outputs": [],
   "source": [
    "device = torch.device('cuda' if torch.cuda.is_available() else 'cpu')\n",
    "model = model.to(device)\n",
    "criterion = torch.nn.CrossEntropyLoss()\n",
    "criterion = criterion.to(device)\n",
    "optimizer = torch.optim.Adam(model.parameters(), lr=0.001)"
   ]
  },
  {
   "cell_type": "code",
   "execution_count": null,
   "metadata": {},
   "outputs": [],
   "source": [
    "!mkdir -p /kaggle/working/h97_resnet_B2_B5B6_dataver1"
   ]
  },
  {
   "cell_type": "code",
   "execution_count": null,
   "metadata": {},
   "outputs": [],
   "source": [
    "from src.experiment.train_model import train_model\n",
    "\n",
    "train_model(train_loader, valid_loader, model, device, criterion, optimizer, 100, 30, '/kaggle/working/h97_resnet_B2_B5B6_dataver1', 'h97_resnet_B2_B5B6_dataver1')"
   ]
  },
  {
   "cell_type": "code",
   "execution_count": null,
   "metadata": {},
   "outputs": [],
   "source": [
    "from src.experiment.test_model import test\n",
    "\n",
    "test(test_loader=test_loader,\n",
    "    model=model,  # model structure\n",
    "    device=device,\n",
    "    criterion=criterion,\n",
    "    model_destination=\"/kaggle/working/h97_resnet_B2_B5B6_dataver1\",\n",
    "    model_name=\"h97_resnet_B2_B5B6_dataver1\",\n",
    ")"
   ]
  },
  {
   "cell_type": "markdown",
   "metadata": {},
   "source": [
    "Sau khi train xong nhanh chóng tải xuống kết quả"
   ]
  },
  {
   "cell_type": "markdown",
   "metadata": {},
   "source": [
    "# Với Model h97_resnet_B5_B2B6_dataver1"
   ]
  },
  {
   "cell_type": "code",
   "execution_count": null,
   "metadata": {},
   "outputs": [],
   "source": [
    "from src.model.classifier.H97 import H97_ResNet\n",
    "import torch\n",
    "import os\n",
    "from src.experiment.load_data import load_data\n",
    "\n",
    "model = H97_ResNet(num_classes=2)"
   ]
  },
  {
   "cell_type": "code",
   "execution_count": null,
   "metadata": {},
   "outputs": [],
   "source": [
    "train_loader, valid_loader, test_loader = load_data(data_dir=data_dir, classes={0: ['B5'], 1: ['.B2', 'B6']})"
   ]
  },
  {
   "cell_type": "code",
   "execution_count": null,
   "metadata": {},
   "outputs": [],
   "source": [
    "for name, loader in zip(['train', 'valid', 'test'], [train_loader, valid_loader, test_loader]):\n",
    "    print(f'Counting labels for {name}...')\n",
    "    labels = [0, 0]\n",
    "    for _, target in loader:\n",
    "        labels[0] += torch.sum(target == 0).item()\n",
    "        labels[1] += torch.sum(target == 1).item()\n",
    "    print(f'Class 0: {labels[0]} images')\n",
    "    print(f'Class 1: {labels[1]} images')"
   ]
  },
  {
   "cell_type": "code",
   "execution_count": null,
   "metadata": {},
   "outputs": [],
   "source": [
    "device = torch.device('cuda' if torch.cuda.is_available() else 'cpu')\n",
    "model = model.to(device)\n",
    "criterion = torch.nn.CrossEntropyLoss()\n",
    "criterion = criterion.to(device)\n",
    "optimizer = torch.optim.Adam(model.parameters(), lr=0.001)"
   ]
  },
  {
   "cell_type": "code",
   "execution_count": null,
   "metadata": {},
   "outputs": [],
   "source": [
    "!mkdir -p /kaggle/working/h97_resnet_B5_B2B6_dataver1"
   ]
  },
  {
   "cell_type": "code",
   "execution_count": null,
   "metadata": {},
   "outputs": [],
   "source": [
    "from src.experiment.train_model import train_model\n",
    "\n",
    "train_model(train_loader, valid_loader, model, device, criterion, optimizer, 100, 30, '/kaggle/working/h97_resnet_B5_B2B6_dataver1', 'h97_resnet_B5_B2B6_dataver1')"
   ]
  },
  {
   "cell_type": "code",
   "execution_count": null,
   "metadata": {},
   "outputs": [],
   "source": [
    "from src.experiment.test_model import test\n",
    "\n",
    "test(test_loader=test_loader,\n",
    "    model=model,  # model structure\n",
    "    device=device,\n",
    "    criterion=criterion,\n",
    "    model_destination=\"/kaggle/working/h97_resnet_B5_B2B6_dataver1\",\n",
    "    model_name=\"h97_resnet_B5_B2B6_dataver1\",\n",
    ")"
   ]
  },
  {
   "cell_type": "markdown",
   "metadata": {},
   "source": [
    "Sau khi train xong nhanh chóng tải xuống kết quả"
   ]
  },
  {
   "cell_type": "markdown",
   "metadata": {},
   "source": [
    "# Với Model h97_resnet_B6_B2B5_dataver1"
   ]
  },
  {
   "cell_type": "code",
   "execution_count": null,
   "metadata": {},
   "outputs": [],
   "source": [
    "from src.model.classifier.H97 import H97_ResNet\n",
    "import torch\n",
    "import os\n",
    "from src.experiment.load_data import load_data\n",
    "\n",
    "model = H97_ResNet(num_classes=2)"
   ]
  },
  {
   "cell_type": "code",
   "execution_count": null,
   "metadata": {},
   "outputs": [],
   "source": [
    "train_loader, valid_loader, test_loader = load_data(data_dir=data_dir, classes={0: ['B6'], 1: ['.B2', 'B5']})"
   ]
  },
  {
   "cell_type": "code",
   "execution_count": null,
   "metadata": {},
   "outputs": [],
   "source": [
    "for name, loader in zip(['train', 'valid', 'test'], [train_loader, valid_loader, test_loader]):\n",
    "    print(f'Counting labels for {name}...')\n",
    "    labels = [0, 0]\n",
    "    for _, target in loader:\n",
    "        labels[0] += torch.sum(target == 0).item()\n",
    "        labels[1] += torch.sum(target == 1).item()\n",
    "    print(f'Class 0: {labels[0]} images')\n",
    "    print(f'Class 1: {labels[1]} images')"
   ]
  },
  {
   "cell_type": "code",
   "execution_count": null,
   "metadata": {},
   "outputs": [],
   "source": [
    "device = torch.device('cuda' if torch.cuda.is_available() else 'cpu')\n",
    "model = model.to(device)\n",
    "criterion = torch.nn.CrossEntropyLoss()\n",
    "criterion = criterion.to(device)\n",
    "optimizer = torch.optim.Adam(model.parameters(), lr=0.001)"
   ]
  },
  {
   "cell_type": "code",
   "execution_count": null,
   "metadata": {},
   "outputs": [],
   "source": [
    "!mkdir -p /kaggle/working/h97_resnet_B6_B2B5_dataver1"
   ]
  },
  {
   "cell_type": "code",
   "execution_count": null,
   "metadata": {},
   "outputs": [],
   "source": [
    "from src.experiment.train_model import train_model\n",
    "\n",
    "train_model(train_loader, valid_loader, model, device, criterion, optimizer, 100, 30, '/kaggle/working/h97_resnet_B6_B2B5_dataver1', 'h97_resnet_B6_B2B5_dataver1')"
   ]
  },
  {
   "cell_type": "code",
   "execution_count": null,
   "metadata": {},
   "outputs": [],
   "source": [
    "from src.experiment.test_model import test\n",
    "\n",
    "test(test_loader=test_loader,\n",
    "    model=model,  # model structure\n",
    "    device=device,\n",
    "    criterion=criterion,\n",
    "    model_destination=\"/kaggle/working/h97_resnet_B6_B2B5_dataver1\",\n",
    "    model_name=\"h97_resnet_B6_B2B5_dataver1\",\n",
    ")"
   ]
  },
  {
   "cell_type": "markdown",
   "metadata": {},
   "source": [
    "Sau khi train xong nhanh chóng tải xuống kết quả"
   ]
  },
  {
   "cell_type": "markdown",
   "metadata": {},
   "source": [
    "# Với Model h97_resnet_B2_B6_B5_dataver1"
   ]
  },
  {
   "cell_type": "code",
   "execution_count": null,
   "metadata": {},
   "outputs": [],
   "source": [
    "from src.model.classifier.H97 import H97_ResNet\n",
    "import torch\n",
    "import os\n",
    "from src.experiment.load_data import load_data\n",
    "\n",
    "model = H97_ResNet(num_classes=3)"
   ]
  },
  {
   "cell_type": "code",
   "execution_count": null,
   "metadata": {},
   "outputs": [],
   "source": [
    "train_loader, valid_loader, test_loader = load_data(data_dir=data_dir, classes={0: ['.B2'], 1: ['B5'], 2: ['B6']})"
   ]
  },
  {
   "cell_type": "code",
   "execution_count": null,
   "metadata": {},
   "outputs": [],
   "source": [
    "for name, loader in zip(['train', 'valid', 'test'], [train_loader, valid_loader, test_loader]):\n",
    "    print(f'Counting labels for {name}...')\n",
    "    labels = [0, 0]\n",
    "    for _, target in loader:\n",
    "        labels[0] += torch.sum(target == 0).item()\n",
    "        labels[1] += torch.sum(target == 1).item()\n",
    "    print(f'Class 0: {labels[0]} images')\n",
    "    print(f'Class 1: {labels[1]} images')"
   ]
  },
  {
   "cell_type": "code",
   "execution_count": null,
   "metadata": {},
   "outputs": [],
   "source": [
    "device = torch.device('cuda' if torch.cuda.is_available() else 'cpu')\n",
    "model = model.to(device)\n",
    "criterion = torch.nn.CrossEntropyLoss()\n",
    "criterion = criterion.to(device)\n",
    "optimizer = torch.optim.Adam(model.parameters(), lr=0.001)"
   ]
  },
  {
   "cell_type": "code",
   "execution_count": null,
   "metadata": {},
   "outputs": [],
   "source": [
    "!mkdir -p /kaggle/working/h97_resnet_B2_B6_B5_dataver1"
   ]
  },
  {
   "cell_type": "code",
   "execution_count": null,
   "metadata": {},
   "outputs": [],
   "source": [
    "from src.experiment.train_model import train_model\n",
    "\n",
    "train_model(train_loader, valid_loader, model, device, criterion, optimizer, 100, 30, '/kaggle/working/h97_resnet_B2_B6_B5_dataver1', 'h97_resnet_B2_B6_B5_dataver1')"
   ]
  },
  {
   "cell_type": "code",
   "execution_count": null,
   "metadata": {},
   "outputs": [],
   "source": [
    "from src.experiment.test_model import test\n",
    "\n",
    "test(test_loader=test_loader,\n",
    "    model=model,  # model structure\n",
    "    device=device,\n",
    "    criterion=criterion,\n",
    "    model_destination=\"/kaggle/working/h97_resnet_B2_B6_B5_dataver1\",\n",
    "    model_name=\"h97_resnet_B2_B6_B5_dataver1\",\n",
    ")"
   ]
  },
  {
   "cell_type": "markdown",
   "metadata": {},
   "source": [
    "Sau khi train xong nhanh chóng tải xuống kết quả"
   ]
  }
 ],
 "metadata": {
  "language_info": {
   "name": "python"
  }
 },
 "nbformat": 4,
 "nbformat_minor": 2
}
