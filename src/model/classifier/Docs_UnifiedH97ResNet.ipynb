{
 "cells": [
  {
   "cell_type": "markdown",
   "metadata": {},
   "source": [
    "# Nền tảng của UnifiedH97ResNet"
   ]
  },
  {
   "cell_type": "markdown",
   "metadata": {},
   "source": [
    "Có 1 khung tạo 3 model như sau: \n",
    "\n",
    "```python\n",
    "import torch\n",
    "import torch.nn as nn\n",
    "import torchvision.models as models\n",
    "from torchsummary import summary\n",
    "\n",
    "class H97_ResNet(nn.Module):\n",
    "    def __init__(self, num_classes: int = 3):\n",
    "        super(H97_ResNet, self).__init__()        \n",
    "        # Tải mô hình ResNet50 đã được huấn luyện trước\n",
    "        resnet50 = models.resnet50(pretrained=True)\n",
    "        # Loại bỏ lớp fully connected cuối cùng\n",
    "        self.feature_extractor = nn.Sequential(*list(resnet50.children())[:-1])\n",
    "        # Đóng băng các tham số trong feature extractor để không cập nhật trong quá trình huấn luyện\n",
    "        for param in self.feature_extractor.parameters():\n",
    "            param.requires_grad = False\n",
    "\n",
    "        # Kích thước đầu vào cho lớp fully connected đầu tiên dựa trên output của ResNet50\n",
    "        # ResNet50 thường trả về tensor [batch_size, 2048, 1, 1] sau lớp pooling cuối cùng\n",
    "        self.fc1 = nn.Linear(2048, 9)\n",
    "        self.fc2 = nn.Linear(9, 7)\n",
    "        self.fc3 = nn.Linear(7, 3)\n",
    "        self.fc4 = nn.Linear(3, num_classes)\n",
    "        self.dropout = nn.Dropout(0.1)\n",
    "\n",
    "    def forward(self, x):\n",
    "        # Trích xuất đặc trưng\n",
    "        x = self.feature_extractor(x)\n",
    "        # Chuyển đổi tensor từ [batch_size, 2048, 1, 1] sang [batch_size, 2048] để phù hợp với lớp fully connected\n",
    "        x = torch.flatten(x, 1)\n",
    "        # Đưa qua mạng dense\n",
    "        x = self.fc1(x)\n",
    "        x = nn.ReLU()(x)\n",
    "        x = self.dropout(x)\n",
    "        \n",
    "        x = self.fc2(x)\n",
    "        x = nn.ReLU()(x)\n",
    "        x = self.dropout(x)\n",
    "        \n",
    "        x = self.fc3(x)\n",
    "        x = nn.ReLU()(x)\n",
    "        x = self.dropout(x)\n",
    "\n",
    "        x = self.fc4(x)\n",
    "        return x\n",
    "```\n",
    "\n",
    "3 model lần lượt là:\n",
    "- h97_ResNet_B2_B5B6 (M1): phân biệt nhãn B2 với 2 nhãn còn lại B5B6 = H97_ResNet(num_classes=2)\n",
    "- h97_ResNet_B5_B2B6 (M2): phân biệt nhãn B5 với 2 nhãn còn lại B2B6 = H97_ResNet(num_classes=2)\n",
    "- h97_ResNet_B6_B2B5 (M3): phân biệt nhãn B6 với 2 nhãn còn lại B2B5 = H97_ResNet(num_classes=2)\n",
    "- h97_ResNet_B2_B5_B6 (M4): phân biệt các nhãn B2, B5, B6 với nhau = H97_ResNet(num_classes=3)\n",
    "\n",
    "Vì cả 4 model đều có chung phần ResNet50 giữ nguyên không đổi trọng số nên tôi đang nghĩ đến việc hợp nhất 4 model.\n",
    "Cụ thể: \n",
    "M1 qua 3 tầng fc (9, 7, 3) cho ra 2 output\n",
    "M2 qua 3 tầng fc (9, 7, 3) cho ra 2 output\n",
    "M3 qua 3 tầng fc (9, 7, 3) cho ra 2 output\n",
    "M4 qua 3 tầng fc (9, 7, 3) cho ra 3 output\n",
    "Việc dùng chung ResNet vào sẽ giúp giảm khối lượng mô hình. Bên cạnh đó với 9 đầu ra của các model (2 + 2 + 2 + 3) từ M1, M2, M3, M4 có thể dùng thêm 1 lớp fc (3) hàm kích hoạt softmax cho phân loại 3 nhãn B2, B5, B6.\n",
    "\n",
    "```markdown\n",
    "Kiến trúc thu được sẽ giống như sau:\n",
    "            ___fc (9, 7, 3, 2) của M1 ra 2 đặc trưng____\n",
    "            |__fc (9, 7, 3, 2) của M2 ra 2 đặc trưng___|\n",
    "ResNet50----|__fc (9, 7, 3, 2) của M3 ra 2 đặc trưng___|___fc(3) tương ứng 3 đặc trưng phân loại các nhãn B2, B5, B6.\n",
    "            |__fc (9, 7, 3, 3) của M4 ra 3 đặc trưng___|\n",
    "```\n",
    "\n",
    "Hãy viết model triển khai kiến trúc như trên."
   ]
  },
  {
   "cell_type": "markdown",
   "metadata": {},
   "source": [
    "# Script load trọng số 4 model đã train vòa UnifiedModel và lưu lại thiết lập của UnifiedModel\n",
    "\n",
    "B1. Load UnifiedModel trọng số các lớp của 4 model đã train\n",
    "\n",
    "B2. Save lại model với trọng số tại: /path/to/UnifiedModel.pt\n",
    "\n",
    "B3. Sửa lại hàm dựng để nó tự động load lại trọng số trong file /path/to/UnifiedModel.pt"
   ]
  },
  {
   "cell_type": "code",
   "execution_count": 4,
   "metadata": {},
   "outputs": [],
   "source": [
    "from UnifiedH97ResNet import UnifiedModel\n",
    "from H97 import H97_ResNet\n",
    "from torch import load, save, device\n",
    "\n",
    "B2_B5B6_dir = '/mnt/Data/Projects/h97_resnet_B2_B5B6_dataver1/best_h97_resnet_B2_B5B6_dataver1_model.pt'\n",
    "B5_B2B6_dir = '/mnt/Data/Projects/h97_resnet_B5_B2B6_dataver1/best_h97_resnet_B5_B2B6_dataver1_model.pt'\n",
    "B6_B2B5_dir = '/mnt/Data/Projects/h97_resnet_B6_B2B5_dataver1/best_h97_resnet_B6_B2B5_dataver1_model.pt'\n",
    "B2_B5_B6_dir = '/mnt/Data/Projects/h97_resnet_B2_B6_B5_dataver1/best_h97_resnet_B2_B6_B5_dataver1_model.pt'\n",
    "\n",
    "models_dir = [B2_B5B6_dir, B5_B2B6_dir, B6_B2B5_dir, B2_B5_B6_dir]"
   ]
  },
  {
   "cell_type": "code",
   "execution_count": 5,
   "metadata": {},
   "outputs": [],
   "source": [
    "unified_model = UnifiedModel()"
   ]
  },
  {
   "cell_type": "code",
   "execution_count": 7,
   "metadata": {},
   "outputs": [
    {
     "name": "stderr",
     "output_type": "stream",
     "text": [
      "/home/harito/venv/pyvenv311/lib/python3.11/site-packages/torchvision/models/_utils.py:208: UserWarning: The parameter 'pretrained' is deprecated since 0.13 and may be removed in the future, please use 'weights' instead.\n",
      "  warnings.warn(\n",
      "/home/harito/venv/pyvenv311/lib/python3.11/site-packages/torchvision/models/_utils.py:223: UserWarning: Arguments other than a weight enum or `None` for 'weights' are deprecated since 0.13 and may be removed in the future. The current behavior is equivalent to passing `weights=ResNet50_Weights.IMAGENET1K_V1`. You can also use `weights=ResNet50_Weights.DEFAULT` to get the most up-to-date weights.\n",
      "  warnings.warn(msg)\n"
     ]
    }
   ],
   "source": [
    "# Load model B2_B5B6_dir\n",
    "sub_model = H97_ResNet(num_classes=2)\n",
    "sub_model.load_state_dict(load(B2_B5B6_dir, map_location=device('cpu')))\n",
    "unified_model.fc1_B2_B5B6 = sub_model.fc1\n",
    "unified_model.fc2_B2_B5B6 = sub_model.fc2\n",
    "unified_model.fc3_B2_B5B6 = sub_model.fc3\n",
    "unified_model.fc4_B2_B5B6 = sub_model.fc4"
   ]
  },
  {
   "cell_type": "code",
   "execution_count": 8,
   "metadata": {},
   "outputs": [],
   "source": [
    "# Load model B5_B2B6_dir\n",
    "sub_model = H97_ResNet(num_classes=2)\n",
    "sub_model.load_state_dict(load(B5_B2B6_dir, map_location=device('cpu')))\n",
    "unified_model.fc1_B5_B2B6 = sub_model.fc1\n",
    "unified_model.fc2_B5_B2B6 = sub_model.fc2\n",
    "unified_model.fc3_B5_B2B6 = sub_model.fc3\n",
    "unified_model.fc4_B5_B2B6 = sub_model.fc4"
   ]
  },
  {
   "cell_type": "code",
   "execution_count": 9,
   "metadata": {},
   "outputs": [],
   "source": [
    "# Load model B6_B2B5_dir\n",
    "sub_model = H97_ResNet(num_classes=2)\n",
    "sub_model.load_state_dict(load(B6_B2B5_dir, map_location=device('cpu')))\n",
    "unified_model.fc1_B6_B2B5 = sub_model.fc1\n",
    "unified_model.fc2_B6_B2B5 = sub_model.fc2\n",
    "unified_model.fc3_B6_B2B5 = sub_model.fc3\n",
    "unified_model.fc4_B6_B2B5 = sub_model.fc4"
   ]
  },
  {
   "cell_type": "code",
   "execution_count": 10,
   "metadata": {},
   "outputs": [],
   "source": [
    "# Load model B2_B5_B6_dir\n",
    "sub_model = H97_ResNet(num_classes=3)\n",
    "sub_model.load_state_dict(load(B2_B5_B6_dir, map_location=device('cpu')))\n",
    "unified_model.fc1_B2_B5_B6 = sub_model.fc1\n",
    "unified_model.fc2_B2_B5_B6 = sub_model.fc2\n",
    "unified_model.fc3_B2_B5_B6 = sub_model.fc3\n",
    "unified_model.fc4_B2_B5_B6 = sub_model.fc4"
   ]
  },
  {
   "cell_type": "code",
   "execution_count": 11,
   "metadata": {},
   "outputs": [],
   "source": [
    "save(unified_model.state_dict(), 'unified_model_weights.pt')"
   ]
  },
  {
   "cell_type": "markdown",
   "metadata": {},
   "source": [
    "# Script chuẩn bị data và huấn luyện model"
   ]
  }
 ],
 "metadata": {
  "kernelspec": {
   "display_name": "pyvenv311",
   "language": "python",
   "name": "python3"
  },
  "language_info": {
   "codemirror_mode": {
    "name": "ipython",
    "version": 3
   },
   "file_extension": ".py",
   "mimetype": "text/x-python",
   "name": "python",
   "nbconvert_exporter": "python",
   "pygments_lexer": "ipython3",
   "version": "3.11.9"
  }
 },
 "nbformat": 4,
 "nbformat_minor": 2
}
