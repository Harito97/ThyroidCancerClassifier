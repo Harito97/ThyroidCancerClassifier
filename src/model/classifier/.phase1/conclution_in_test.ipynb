{
 "cells": [
  {
   "cell_type": "markdown",
   "metadata": {},
   "source": [
    "# Thống kê các kết quả trên tập test"
   ]
  },
  {
   "cell_type": "markdown",
   "metadata": {},
   "source": [
    "## Model H_ANN\n",
    "\n",
    "```markdown\n",
    "Confusion Matrix:\n",
    " [[ 5  2  4]\n",
    " [ 8 20 27]\n",
    " [ 9 16 54]]\n",
    "Classification Report:\n",
    "               precision    recall  f1-score   support\n",
    "\n",
    "           0       0.23      0.45      0.30        11\n",
    "           1       0.53      0.36      0.43        55\n",
    "           2       0.64      0.68      0.66        79\n",
    "\n",
    "    accuracy                           0.54       145\n",
    "   macro avg       0.46      0.50      0.46       145\n",
    "weighted avg       0.56      0.54      0.54       145\n",
    "```"
   ]
  },
  {
   "cell_type": "code",
   "execution_count": 4,
   "metadata": {},
   "outputs": [
    {
     "data": {
      "text/plain": [
       "0.4633333333333334"
      ]
     },
     "execution_count": 4,
     "metadata": {},
     "output_type": "execute_result"
    }
   ],
   "source": [
    "sum([0.3, 0.43, 0.66])/3"
   ]
  },
  {
   "cell_type": "markdown",
   "metadata": {},
   "source": [
    "## Model H1\n",
    "\n",
    "CNN thiết kế mà không có 1 lớp lọc góc cạnh.\n",
    "```markdown\n",
    "Confusion Matrix:\n",
    " [[ 6  3  2]\n",
    " [ 2 22 31]\n",
    " [ 3 12 64]]\n",
    "Classification Report:\n",
    "               precision    recall  f1-score   support\n",
    "\n",
    "           0       0.55      0.55      0.55        11\n",
    "           1       0.59      0.40      0.48        55\n",
    "           2       0.66      0.81      0.73        79\n",
    "\n",
    "    accuracy                           0.63       145\n",
    "   macro avg       0.60      0.59      0.58       145\n",
    "weighted avg       0.63      0.63      0.62       145\n",
    "```"
   ]
  },
  {
   "cell_type": "code",
   "execution_count": 5,
   "metadata": {},
   "outputs": [
    {
     "data": {
      "text/plain": [
       "0.5866666666666667"
      ]
     },
     "execution_count": 5,
     "metadata": {},
     "output_type": "execute_result"
    }
   ],
   "source": [
    "sum([0.55, 0.48, 0.73])/3"
   ]
  },
  {
   "cell_type": "markdown",
   "metadata": {},
   "source": [
    "## Model H2\n",
    "\n",
    "CNN thiết kế và có thêm 1 lớp lọc góc cạnh.\n",
    "```markdown\n",
    "Confusion Matrix:\n",
    " [[ 2  0  9]\n",
    " [ 3  1 51]\n",
    " [ 3  0 76]]\n",
    "Classification Report:\n",
    "               precision    recall  f1-score   support\n",
    "\n",
    "           0       0.25      0.18      0.21        11\n",
    "           1       1.00      0.02      0.04        55\n",
    "           2       0.56      0.96      0.71        79\n",
    "\n",
    "    accuracy                           0.54       145\n",
    "   macro avg       0.60      0.39      0.32       145\n",
    "weighted avg       0.70      0.54      0.41       145\n",
    "```"
   ]
  },
  {
   "cell_type": "code",
   "execution_count": 6,
   "metadata": {},
   "outputs": [
    {
     "data": {
      "text/plain": [
       "0.32"
      ]
     },
     "execution_count": 6,
     "metadata": {},
     "output_type": "execute_result"
    }
   ],
   "source": [
    "sum([0.21, 0.04, 0.71])/3"
   ]
  },
  {
   "cell_type": "markdown",
   "metadata": {},
   "source": [
    "## Model H3\n",
    "\n",
    "Sử dụng pre-trained ResNet50.\n",
    "```markdown\n",
    "Confusion Matrix:\n",
    " [[ 9  1  1]\n",
    " [ 4 32 19]\n",
    " [ 2 10 67]]\n",
    "Classification Report:\n",
    "               precision    recall  f1-score   support\n",
    "\n",
    "           0       0.60      0.82      0.69        11\n",
    "           1       0.74      0.58      0.65        55\n",
    "           2       0.77      0.85      0.81        79\n",
    "\n",
    "    accuracy                           0.74       145\n",
    "   macro avg       0.70      0.75      0.72       145\n",
    "weighted avg       0.75      0.74      0.74       145\n",
    "```"
   ]
  },
  {
   "cell_type": "code",
   "execution_count": 7,
   "metadata": {},
   "outputs": [
    {
     "data": {
      "text/plain": [
       "0.7166666666666667"
      ]
     },
     "execution_count": 7,
     "metadata": {},
     "output_type": "execute_result"
    }
   ],
   "source": [
    "sum([0.69, 0.65, 0.81])/3"
   ]
  },
  {
   "cell_type": "markdown",
   "metadata": {},
   "source": [
    "## Model H4\n",
    "\n",
    "Sử dụng pre-trained ViT.\n",
    "```markdown\n",
    "Confusion Matrix:\n",
    " [[ 9  2  0]\n",
    " [ 3 41 11]\n",
    " [ 2 25 52]]\n",
    "Classification Report:\n",
    "               precision    recall  f1-score   support\n",
    "\n",
    "           0       0.64      0.82      0.72        11\n",
    "           1       0.60      0.75      0.67        55\n",
    "           2       0.83      0.66      0.73        79\n",
    "\n",
    "    accuracy                           0.70       145\n",
    "   macro avg       0.69      0.74      0.71       145\n",
    "weighted avg       0.73      0.70      0.71       145\n",
    "```"
   ]
  },
  {
   "cell_type": "code",
   "execution_count": 8,
   "metadata": {},
   "outputs": [
    {
     "data": {
      "text/plain": [
       "0.7066666666666667"
      ]
     },
     "execution_count": 8,
     "metadata": {},
     "output_type": "execute_result"
    }
   ],
   "source": [
    "sum([0.72, 0.67, 0.73])/3"
   ]
  },
  {
   "cell_type": "markdown",
   "metadata": {},
   "source": [
    "## Model H5 (hiện đang tỏ ra vượt trội nhất trong 8 model)\n",
    "\n",
    "Sử dụng pre-trained ResNet50 rồi cho qua ViT.\n",
    "```markdown\n",
    "Confusion Matrix:\n",
    " [[ 9  2  0]\n",
    " [ 1 48  6]\n",
    " [ 1 22 56]]\n",
    "Classification Report:\n",
    "               precision    recall  f1-score   support\n",
    "\n",
    "           0       0.82      0.82      0.82        11\n",
    "           1       0.67      0.87      0.76        55\n",
    "           2       0.90      0.71      0.79        79\n",
    "\n",
    "    accuracy                           0.78       145\n",
    "   macro avg       0.80      0.80      0.79       145\n",
    "weighted avg       0.81      0.78      0.78       145\n",
    "```"
   ]
  },
  {
   "cell_type": "code",
   "execution_count": 9,
   "metadata": {},
   "outputs": [
    {
     "data": {
      "text/plain": [
       "0.79"
      ]
     },
     "execution_count": 9,
     "metadata": {},
     "output_type": "execute_result"
    }
   ],
   "source": [
    "sum([0.82, 0.76, 0.79])/3"
   ]
  },
  {
   "cell_type": "markdown",
   "metadata": {},
   "source": [
    "## Model H6\n",
    "\n",
    "Sử dụng pre-trained ViT rồi cho qua ResNet50.\n",
    "```markdown\n",
    "Confusion Matrix:\n",
    " [[ 8  2  1]\n",
    " [ 5 27 23]\n",
    " [ 1 10 68]]\n",
    "Classification Report:\n",
    "               precision    recall  f1-score   support\n",
    "\n",
    "           0       0.57      0.73      0.64        11\n",
    "           1       0.69      0.49      0.57        55\n",
    "           2       0.74      0.86      0.80        79\n",
    "\n",
    "    accuracy                           0.71       145\n",
    "   macro avg       0.67      0.69      0.67       145\n",
    "weighted avg       0.71      0.71      0.70       145\n",
    "```"
   ]
  },
  {
   "cell_type": "code",
   "execution_count": 10,
   "metadata": {},
   "outputs": [
    {
     "data": {
      "text/plain": [
       "0.6699999999999999"
      ]
     },
     "execution_count": 10,
     "metadata": {},
     "output_type": "execute_result"
    }
   ],
   "source": [
    "sum([0.64, 0.57, 0.80])/3"
   ]
  },
  {
   "cell_type": "markdown",
   "metadata": {},
   "source": [
    "## Model H7\n",
    "\n",
    "Sử dụng pre-trained ResNet50 và ViT cùng lúc rồi tổng hợp 2 vector output thành 1 và cho qua lớp dense.\n",
    "```markdown\n",
    "Confusion Matrix:\n",
    " [[ 9  0  2]\n",
    " [ 2 26 27]\n",
    " [ 2  6 71]]\n",
    "Classification Report:\n",
    "               precision    recall  f1-score   support\n",
    "\n",
    "           0       0.69      0.82      0.75        11\n",
    "           1       0.81      0.47      0.60        55\n",
    "           2       0.71      0.90      0.79        79\n",
    "\n",
    "    accuracy                           0.73       145\n",
    "   macro avg       0.74      0.73      0.71       145\n",
    "weighted avg       0.75      0.73      0.72       145\n",
    "```"
   ]
  },
  {
   "cell_type": "code",
   "execution_count": 11,
   "metadata": {},
   "outputs": [
    {
     "data": {
      "text/plain": [
       "0.7133333333333334"
      ]
     },
     "execution_count": 11,
     "metadata": {},
     "output_type": "execute_result"
    }
   ],
   "source": [
    "sum([0.75, 0.60, 0.79])/3"
   ]
  },
  {
   "cell_type": "markdown",
   "metadata": {},
   "source": [
    "# Model H8_0_12\n",
    "\n",
    "Sử dụng ResNet50 $\\to$ ViT.\n",
    "```markdown\n",
    "Confusion Matrix:\n",
    " [[  8   3]\n",
    " [  2 132]]\n",
    "Classification Report:\n",
    "               precision    recall  f1-score   support\n",
    "\n",
    "           0       0.80      0.73      0.76        11\n",
    "           1       0.98      0.99      0.98       134\n",
    "\n",
    "    accuracy                           0.97       145\n",
    "   macro avg       0.89      0.86      0.87       145\n",
    "weighted avg       0.96      0.97      0.96       145\n",
    "```"
   ]
  }
 ],
 "metadata": {
  "kernelspec": {
   "display_name": "pyvenv311",
   "language": "python",
   "name": "python3"
  },
  "language_info": {
   "codemirror_mode": {
    "name": "ipython",
    "version": 3
   },
   "file_extension": ".py",
   "mimetype": "text/x-python",
   "name": "python",
   "nbconvert_exporter": "python",
   "pygments_lexer": "ipython3",
   "version": "3.11.9"
  }
 },
 "nbformat": 4,
 "nbformat_minor": 2
}
