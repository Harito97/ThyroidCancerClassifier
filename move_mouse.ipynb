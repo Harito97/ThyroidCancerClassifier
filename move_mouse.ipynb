{
 "cells": [
  {
   "cell_type": "markdown",
   "metadata": {},
   "source": [
    "# Cái này có mục đích để liên tục di chuột tránh bị sập (or tự động ngắt kết nối: eg Colab)"
   ]
  },
  {
   "cell_type": "code",
   "execution_count": 4,
   "metadata": {},
   "outputs": [
    {
     "name": "stdout",
     "output_type": "stream",
     "text": [
      "Requirement already satisfied: pyautogui in /home/harito/venv/pyvenv311/lib/python3.11/site-packages (0.9.54)\n",
      "Requirement already satisfied: keyboard in /home/harito/venv/pyvenv311/lib/python3.11/site-packages (0.13.5)\n",
      "Requirement already satisfied: pymsgbox in /home/harito/venv/pyvenv311/lib/python3.11/site-packages (from pyautogui) (1.0.9)\n",
      "Requirement already satisfied: pytweening>=1.0.4 in /home/harito/venv/pyvenv311/lib/python3.11/site-packages (from pyautogui) (1.2.0)\n",
      "Requirement already satisfied: pyscreeze>=0.1.21 in /home/harito/venv/pyvenv311/lib/python3.11/site-packages (from pyautogui) (0.1.30)\n",
      "Requirement already satisfied: pygetwindow>=0.0.5 in /home/harito/venv/pyvenv311/lib/python3.11/site-packages (from pyautogui) (0.0.9)\n",
      "Requirement already satisfied: mouseinfo in /home/harito/venv/pyvenv311/lib/python3.11/site-packages (from pyautogui) (0.1.3)\n",
      "Requirement already satisfied: python3-Xlib in /home/harito/venv/pyvenv311/lib/python3.11/site-packages (from pyautogui) (0.15)\n",
      "Requirement already satisfied: pyrect in /home/harito/venv/pyvenv311/lib/python3.11/site-packages (from pygetwindow>=0.0.5->pyautogui) (0.2.0)\n",
      "Requirement already satisfied: Pillow>=9.3.0 in /home/harito/venv/pyvenv311/lib/python3.11/site-packages (from pyscreeze>=0.1.21->pyautogui) (10.3.0)\n",
      "Requirement already satisfied: pyperclip in /home/harito/venv/pyvenv311/lib/python3.11/site-packages (from mouseinfo->pyautogui) (1.9.0)\n",
      "Note: you may need to restart the kernel to use updated packages.\n"
     ]
    }
   ],
   "source": [
    "%pip install pyautogui keyboard"
   ]
  },
  {
   "cell_type": "code",
   "execution_count": 5,
   "metadata": {},
   "outputs": [
    {
     "name": "stdout",
     "output_type": "stream",
     "text": [
      "Nhấn Ctrl+C để dừng chương trình.\n"
     ]
    }
   ],
   "source": [
    "import pyautogui\n",
    "import time\n",
    "import signal\n",
    "import sys\n",
    "import keyboard\n",
    "\n",
    "# Hàm để xử lý khi nhận tín hiệu ngắt (Ctrl+C)\n",
    "def signal_handler(sig, frame):\n",
    "    print(\"Chương trình bị ngắt bởi người dùng.\")\n",
    "    sys.exit(0)\n",
    "\n",
    "# Bắt tín hiệu ngắt (Ctrl+C)\n",
    "signal.signal(signal.SIGINT, signal_handler)\n",
    "\n",
    "print(\"Nhấn Ctrl+C để dừng chương trình.\")\n",
    "\n",
    "# Vòng lặp vô hạn\n",
    "try:\n",
    "    while True:\n",
    "        # Di chuyển chuột sang phải 100 pixel\n",
    "        pyautogui.move(100, 0)\n",
    "        time.sleep(1)\n",
    "        \n",
    "        # Di chuyển chuột sang trái 100 pixel\n",
    "        pyautogui.move(-100, 0)\n",
    "        time.sleep(1)\n",
    "except KeyboardInterrupt:\n",
    "    print(\"Chương trình bị ngắt bởi người dùng.\")\n",
    "    sys.exit(0)\n"
   ]
  }
 ],
 "metadata": {
  "kernelspec": {
   "display_name": "pyvenv311",
   "language": "python",
   "name": "python3"
  },
  "language_info": {
   "codemirror_mode": {
    "name": "ipython",
    "version": 3
   },
   "file_extension": ".py",
   "mimetype": "text/x-python",
   "name": "python",
   "nbconvert_exporter": "python",
   "pygments_lexer": "ipython3",
   "version": "3.11.9"
  }
 },
 "nbformat": 4,
 "nbformat_minor": 2
}
