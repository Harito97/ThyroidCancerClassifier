{
 "cells": [
  {
   "cell_type": "markdown",
   "metadata": {},
   "source": [
    "# Quá trình tạo từ data/raw sang data/processed/ver1\n",
    "\n",
    "Để tạo ra `data/processed/ver1` từ `data/raw` cần thực hiện các bước sau:\n",
    "\n",
    "1. **Đọc và Resize Ảnh**: Đọc mỗi ảnh từ các thư mục nhãn (B2, B5, B6), sau đó resize về kích thước chuẩn 1024x768.\n",
    "\n",
    "2. **Giữ Nguyên 3 Kênh Màu**: Đảm bảo rằng quá trình xử lý không thay đổi số kênh màu của ảnh.\n",
    "\n",
    "3. **Phân Chia Dữ Liệu**: Phân chia tổng số ảnh thành 3 tập: train, valid, và test với tỷ lệ 80:10:10.\n",
    "\n",
    "4. **Đổi Tên Ảnh**: Đổi tên mỗi ảnh theo template `{ClassType}_{ImageID}.jpg`, với `ImageID` bắt đầu từ 1 cho mỗi nhãn.\n",
    "\n",
    "5. **Lưu Ảnh Đã Xử Lý**: Lưu ảnh đã được xử lý vào thư mục tương ứng trong `data/processed/ver1`."
   ]
  }
 ],
 "metadata": {
  "language_info": {
   "name": "python"
  }
 },
 "nbformat": 4,
 "nbformat_minor": 2
}
