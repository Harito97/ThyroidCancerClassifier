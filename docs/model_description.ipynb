{
 "cells": [
  {
   "cell_type": "markdown",
   "metadata": {},
   "source": [
    "# Model H0\n",
    "\n",
    "Model chứa các phương thức chung nhất mà mọi model tiếp theo phải kế thừa"
   ]
  },
  {
   "cell_type": "code",
   "execution_count": null,
   "metadata": {},
   "outputs": [],
   "source": [
    "class H0(torch.nn.Module):\n",
    "    def __init__(self):\n",
    "\n",
    "    def save_model(self, folder_path, file_name, type='.pt'):\n",
    "\n",
    "    def load_model(self, file_path, device='cpu'):\n",
    "\n",
    "    def get_feature_maps(self, x):\n",
    "\n",
    "    def visualize_feature_maps(self, input_image, show_last_layer=False):"
   ]
  },
  {
   "cell_type": "markdown",
   "metadata": {},
   "source": [
    "# Model H1\n",
    "\n",
    "Đây là model sử dụng CNN đơn giản"
   ]
  },
  {
   "cell_type": "code",
   "execution_count": null,
   "metadata": {},
   "outputs": [],
   "source": [
    "import torch\n",
    "import torch.nn as nn\n",
    "import torch.nn.functional as F\n",
    "from H0 import H0\n",
    "\n",
    "\n",
    "class H1(H0):\n",
    "    def __init__(self):\n",
    "        super(H1, self).__init__()\n",
    "        # Định nghĩa các tầng CNN\n",
    "        # Tầng 1: Convolutional layer với 3 input channels (ảnh RGB), 32 output channels, kernel size 3\n",
    "        self.conv1 = nn.Conv2d(3, 32, kernel_size=3, padding=1)\n",
    "        self.bn1 = nn.BatchNorm2d(32)  # Batch Normalization sau tầng conv1\n",
    "        # Tầng 2: Convolutional layer với 32 input channels, 64 output channels, kernel size 3\n",
    "        self.conv2 = nn.Conv2d(32, 64, kernel_size=3, padding=1)\n",
    "        self.bn2 = nn.BatchNorm2d(64)  # Batch Normalization sau tầng conv2\n",
    "        # Tầng 3: Convolutional layer với 64 input channels, 128 output channels, kernel size 3\n",
    "        self.conv3 = nn.Conv2d(64, 128, kernel_size=3, padding=1)\n",
    "        self.bn3 = nn.BatchNorm2d(128)  # Batch Normalization sau tầng conv3\n",
    "        # Pooling layer giảm kích thước bằng cách lấy max trong cửa sổ 2x2\n",
    "        self.pool = nn.MaxPool2d(2, 2)\n",
    "        self.dropout1 = nn.Dropout(0.5)  # Dropout để giảm overfitting sau pooling\n",
    "        # Fully connected layer để phân loại, 128 * 28 * 28 là số đặc trưng đầu vào từ tầng cuối cùng của CNN,\n",
    "        # giả sử sau 3 lần pooling kích thước ảnh giảm xuống còn 28x28\n",
    "        self.fc1 = nn.Linear(128 * 28 * 28, 512)\n",
    "        self.dropout2 = nn.Dropout(0.6)  # Dropout trước tầng output để giảm overfitting\n",
    "        # Output layer với 3 units cho 3 lớp phân loại\n",
    "        self.fc2 = nn.Linear(512, 3)\n",
    "\n",
    "    def forward(self, x):\n",
    "        # Áp dụng các tầng convolutional và non-linearity (ReLU)\n",
    "        x = F.relu(self.bn1(self.conv1(x)))\n",
    "        x = self.pool(x)\n",
    "        x = self.dropout1(x)\n",
    "        x = F.relu(self.bn2(self.conv2(x)))\n",
    "        x = self.pool(x)\n",
    "        x = self.dropout1(x)  # Sử dụng lại dropout1\n",
    "        x = F.relu(self.bn3(self.conv3(x)))\n",
    "        x = self.pool(x)\n",
    "        x = self.dropout1(x)  # Sử dụng lại dropout1\n",
    "        # Flatten đầu ra trước khi đưa vào tầng fully connected\n",
    "        x = x.view(-1, 128 * 28 * 28)\n",
    "        x = F.relu(self.fc1(x))\n",
    "        x = self.dropout2(x)\n",
    "        x = self.fc2(x)\n",
    "        return x"
   ]
  },
  {
   "cell_type": "markdown",
   "metadata": {},
   "source": [
    "# Model H2\n",
    "\n",
    "Sử dụng kiến trúc tương tự H1 nhưng thêm lớp Convolution đặt ngay đầu (trước khi truyền sang H1) là không train được, lớp Convolution này có nhiệm vụ làm nổi bật các góc cạnh có trong hình ảnh. Khi train thực tế sẽ đặt Convolution đầu tiên không train được, trọng số của các lớp còn lại để như của model H1 rồi thực hiện việc train."
   ]
  },
  {
   "cell_type": "code",
   "execution_count": null,
   "metadata": {},
   "outputs": [],
   "source": [
    "import torch\n",
    "import torch.nn as nn\n",
    "import torch.nn.functional as F\n",
    "from H0 import H0\n",
    "from H1 import H1\n",
    "\n",
    "\n",
    "class H2(H0):\n",
    "    def __init__(self):\n",
    "        super(H2, self).__init__()\n",
    "        sobel_filter_vertical = torch.tensor(\n",
    "            [[[-1.0, 0.0, 1.0], [-2.0, 0.0, 2.0], [-1.0, 0.0, 1.0]]],\n",
    "            dtype=torch.float32\n",
    "        ).repeat(3, 3, 1, 1)  \n",
    "        sobel_filter_horizontal = torch.tensor(\n",
    "            [[[1.0, 2.0, 1.0], [0.0, 0.0, 0.0], [-1.0, -2.0, -1.0]]],\n",
    "            dtype=torch.float32\n",
    "        ).repeat(3, 3, 1, 1)  \n",
    "        sobel_filter = sobel_filter_vertical + sobel_filter_horizontal\n",
    "        ## Khởi tạo lớp Conv2d\n",
    "        self.conv0 = nn.Conv2d(3, 3, kernel_size=3, padding=1, bias=False)\n",
    "        ## Đặt trọng số cho lớp Conv2d\n",
    "        self.conv0.weight.data = sobel_filter\n",
    "        ## Lớp Convolution đầu tiên không được train\n",
    "        self.conv0.weight.requires_grad = False\n",
    "        self.H1 = H1()\n",
    "\n",
    "    def forward(self, x):\n",
    "        x = self.conv0(x)\n",
    "        x = self.H1(x)\n",
    "        return x\n",
    "\n",
    "    def get_feature_maps(self, x):"
   ]
  },
  {
   "cell_type": "markdown",
   "metadata": {},
   "source": [
    "# Model H3\n",
    "\n",
    "Đây là model có kết hợp sử dụng ResNet50 thay cho các lớp CNN đơn giản"
   ]
  },
  {
   "cell_type": "markdown",
   "metadata": {},
   "source": [
    "Sau đây là hình ảnh cho kiến trúc của ResNet50 tham khảo của [Mahmood el al (2020). Automatic Hierarchical Classification of Kelps Using Deep Residual Features. Sensors. 20. 447](https://www.mdpi.com/1424-8220/20/2/447)\n",
    "\n",
    "![img](img/ResNet50_Architecture.png)"
   ]
  },
  {
   "cell_type": "code",
   "execution_count": null,
   "metadata": {},
   "outputs": [],
   "source": [
    "import torch\n",
    "import torch.nn as nn\n",
    "from torchvision import models\n",
    "from H0 import H0\n",
    "\n",
    "class H3(H0):\n",
    "    def __init__(self):\n",
    "        super(H3, self).__init__()\n",
    "        # Tải mô hình ResNet50 đã được huấn luyện trước\n",
    "        resnet50 = models.resnet50(pretrained=True)\n",
    "        # Loại bỏ lớp fully connected cuối cùng\n",
    "        self.feature_extractor = nn.Sequential(*list(resnet50.children())[:-1])\n",
    "        # Đóng băng các tham số trong feature extractor để không cập nhật trong quá trình huấn luyện\n",
    "        for param in self.feature_extractor.parameters():\n",
    "            param.requires_grad = False\n",
    "        \n",
    "        # Kích thước đầu vào cho lớp fully connected đầu tiên dựa trên output của ResNet50\n",
    "        # ResNet50 thường trả về tensor [batch_size, 2048, 1, 1] sau lớp pooling cuối cùng\n",
    "        self.fc1 = nn.Linear(2048, 512)\n",
    "        self.dropout1 = nn.Dropout(0.5)\n",
    "        # Output layer với 3 units cho 3 lớp phân loại\n",
    "        self.fc2 = nn.Linear(512, 3)\n",
    "\n",
    "    def forward(self, x):\n",
    "        # Trích xuất đặc trưng\n",
    "        x = self.feature_extractor(x)\n",
    "        # Chuyển đổi tensor từ [batch_size, 2048, 1, 1] sang [batch_size, 2048] để phù hợp với lớp fully connected\n",
    "        x = torch.flatten(x, 1)\n",
    "        # Đưa qua mạng dense\n",
    "        x = F.relu(self.fc1(x))\n",
    "        x = self.dropout1(x)\n",
    "        x = self.fc2(x)\n",
    "        return x\n",
    "        \n",
    "    def get_feature_maps(self, x):"
   ]
  },
  {
   "cell_type": "markdown",
   "metadata": {},
   "source": [
    "# Model H4\n",
    "\n",
    "Model kết hợp các lớp CNN với ViT:\n",
    "- CNN trước ViT sau\n",
    "- ViT trước CNN sau\n",
    "- Cả CNN và ViT cùng lúc"
   ]
  }
 ],
 "metadata": {
  "language_info": {
   "name": "python"
  }
 },
 "nbformat": 4,
 "nbformat_minor": 2
}
