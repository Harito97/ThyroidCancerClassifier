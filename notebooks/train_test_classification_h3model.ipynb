{
 "cells": [
  {
   "cell_type": "code",
   "execution_count": null,
   "metadata": {},
   "outputs": [],
   "source": [
    "# Run this code in /mnt/Data/Projects/ThyroidCancerClassifier or .../ThyroidCancerClassifier"
   ]
  },
  {
   "cell_type": "code",
   "execution_count": null,
   "metadata": {},
   "outputs": [],
   "source": [
    "# from src.model.classifier.H1 import H1\n",
    "# from src.model.classifier.H2 import H2\n",
    "from src.model.classifier.H3 import H3\n",
    "\n",
    "from src.training.train_test_classification_model import fit as fit_classification_model\n",
    "# from src.training.train_test_classification_model import test as test_classification_model"
   ]
  },
  {
   "cell_type": "code",
   "execution_count": null,
   "metadata": {},
   "outputs": [],
   "source": [
    "model = H3()\n",
    "fit_classification_model(\n",
    "    model=model,\n",
    "    data_version_dir=\"data/processed/ver1\",\n",
    "    num_epoch=100,\n",
    "    model_destination=\"models/checkpoints\",\n",
    "    model_name=\"h3\",\n",
    ")\n",
    "\n",
    "# criterion = __setup_hyperparameters(model)\n",
    "# test(\n",
    "#     model=model,\n",
    "#     data_version_dir=\"data/processed/ver1\",\n",
    "#     model_path=\"models/best_h3_model.pt\",\n",
    "#     criterion=criterion\n",
    "# )"
   ]
  }
 ],
 "metadata": {
  "language_info": {
   "name": "python"
  }
 },
 "nbformat": 4,
 "nbformat_minor": 2
}
